{
 "cells": [
  {
   "cell_type": "code",
   "execution_count": 1,
   "metadata": {},
   "outputs": [],
   "source": [
    "import logging"
   ]
  },
  {
   "cell_type": "code",
   "execution_count": null,
   "metadata": {},
   "outputs": [],
   "source": [
    "class Snake_log:\n",
    "    def __init__(self, head_position, food_position, direction, game_size, snake_positions, reverse_commands, ip, commands_history):\n",
    "        self.head_x_pos = head_position[0]\n",
    "        self.head_y_pos = head_position[1]\n",
    "        self.food_x_pos = food_position[0]\n",
    "        self.food_y_pos = food_position[1]\n",
    "        self.direction = direction\n",
    "        self.game_size = game_size\n",
    "        self.snake_positions = snake_positions\n",
    "        self.reverse_commands = reverse_commands\n",
    "        self.directions_left = []\n",
    "        self.ip = ip\n",
    "        self.history = commands_history\n",
    "        self.is_eaten = False\n",
    "        self.logger = None\n",
    "        self.ch = None\n",
    "        self.fh = None\n",
    "        self.params = {'clientip': self.ip}\n",
    "        \n",
    "    def init_logger(self) :\n",
    "        #On instancie un logger\n",
    "        self.logger = logging.getLogger('snake_logger')\n",
    "        self.logger.setLevel(logging.DEBUG)\n",
    "        \n",
    "        #On créé des handlers pour renvoyer les logs où on le desire\n",
    "        self.ch = logging.StreamHandler()\n",
    "        self.ch.setLevel(logging.INFO)\n",
    "        \n",
    "        #Vérifie que des handlers existent déjà, si oui, on les supprime\n",
    "        self.fh = logging.FileHandler(f'{self.ip}.log') #choose a file name\n",
    "        self.fh.setLevel(logging.INFO)\n",
    "        \n",
    "        #On ajoute nos handlers instanciés \n",
    "        if (self.logger.hasHandlers()):\n",
    "            self.logger.handlers.clear()\n",
    "            \n",
    "        self.logger.addHandler(self.ch)\n",
    "        self.logger.addHandler(self.fh)\n",
    "        \n",
    "        formatter = logging.Formatter('[%(clientip)s] : %(asctime)s - %(message)s')\n",
    "                \n",
    "        self.fh.setFormatter(formatter)\n",
    "        self.ch.setFormatter(formatter)\n",
    "        \n",
    "        self.history.append(self.direction)\n",
    "        \n",
    "    def logging_utils(self, game_status) :\n",
    "\n",
    "        #Changement de direction\n",
    "        if self.history[-2] != self.direction :\n",
    "            self.logger.info(f\"Direction changed : {self.direction}\", extra=self.params)\n",
    "            \n",
    "        #Direction opposée\n",
    "        if self.history[-2] == self.reverse_commands[self.direction] :\n",
    "            self.logger.critical(f\"Opposite direction detected ! Last direction : {self.history[-2]} - Direction :{self.direction}\")\n",
    "        \n",
    "        #La pomme est mangée\n",
    "        if game_status[\"is_eaten\"]:\n",
    "            self.logger.info(f\"Apple is eaten at {self.food_x_pos, self.food_y_pos}!\", extra=self.params)\n",
    "        \n",
    "        #Le snake se mange lui même\n",
    "        if game_status[\"is_eat_itself\"]:\n",
    "            self.logger.info(f\"GAME OVER ! The snake eat itself at {self.head_x_pos, self.head_y_pos}!\", extra=self.params)\n",
    "            \n",
    "        #Le snake va dans le mur\n",
    "        if game_status[\"is_touched_wall\"]:\n",
    "            self.logger.info(f\"GAME OVER ! Apple is eaten at {self.head_x_pos, self.head_y_pos}!\", extra=self.params)"
   ]
  }
 ],
 "metadata": {
  "kernelspec": {
   "display_name": "Python 3",
   "language": "python",
   "name": "python3"
  },
  "language_info": {
   "codemirror_mode": {
    "name": "ipython",
    "version": 3
   },
   "file_extension": ".py",
   "mimetype": "text/x-python",
   "name": "python",
   "nbconvert_exporter": "python",
   "pygments_lexer": "ipython3",
   "version": "3.7.8"
  }
 },
 "nbformat": 4,
 "nbformat_minor": 4
}
