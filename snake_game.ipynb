{
 "cells": [
  {
   "cell_type": "code",
   "execution_count": 19,
   "metadata": {},
   "outputs": [],
   "source": [
    "from tkinter import *"
   ]
  },
  {
   "cell_type": "markdown",
   "metadata": {},
   "source": [
    "<h2><b>GAME</b></h2>"
   ]
  },
  {
   "cell_type": "code",
   "execution_count": 21,
   "metadata": {},
   "outputs": [
    {
     "name": "stdout",
     "output_type": "stream",
     "text": [
      "Playing\n",
      "<snake_ia.Ia_dumb object at 0x7fd0849118d0>\n"
     ]
    }
   ],
   "source": [
    "\n",
    "class Apple :\n",
    "    def __init__(self):\n",
    "        pass\n",
    "    \n",
    "class Snake :\n",
    "    def __init__(self):\n",
    "        pass\n",
    "    \n",
    "class Snake_game :\n",
    "    def __init__(self):\n",
    "        pass\n",
    "    def play(self):\n",
    "        print(\"Playing\")\n",
    "        return True\n",
    "\n",
    "snake_game = Snake_game()\n",
    "snake_game.play()"
   ]
  },
  {
   "cell_type": "markdown",
   "metadata": {},
   "source": [
    "<h2><b>IA</b></h2>"
   ]
  },
  {
   "cell_type": "code",
   "execution_count": 6,
   "metadata": {},
   "outputs": [],
   "source": [
    "class Ia_dumb :\n",
    "    def __init__(self):\n",
    "        pass\n",
    "\n",
    "class Ia_smart :\n",
    "    def __init__(self):\n",
    "        pass\n",
    "    \n",
    "class Ia_q :\n",
    "    def __init__(self):\n",
    "        pass\n",
    "    \n",
    "class Snake_game :\n",
    "    def __init__(self):\n",
    "        pass\n",
    "    def play(self):\n",
    "        print(\"Playing\")\n",
    "        return True\n",
    "\n",
    "snake_game = Snake_game()\n",
    "snake_game.play()\n"
   ]
  },
  {
   "cell_type": "code",
   "execution_count": null,
   "metadata": {},
   "outputs": [],
   "source": []
  }
 ],
 "metadata": {
  "kernelspec": {
   "display_name": "Python 3",
   "language": "python",
   "name": "python3"
  },
  "language_info": {
   "codemirror_mode": {
    "name": "ipython",
    "version": 3
   },
   "file_extension": ".py",
   "mimetype": "text/x-python",
   "name": "python",
   "nbconvert_exporter": "python",
   "pygments_lexer": "ipython3",
   "version": "3.7.8"
  }
 },
 "nbformat": 4,
 "nbformat_minor": 4
}
