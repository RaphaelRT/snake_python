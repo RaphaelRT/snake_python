{
 "cells": [
  {
   "cell_type": "code",
   "execution_count": 113,
   "metadata": {},
   "outputs": [],
   "source": [
    "import tkinter as tk\n",
    "import time"
   ]
  },
  {
   "cell_type": "markdown",
   "metadata": {},
   "source": [
    "<h2><b>GAME</b></h2>"
   ]
  },
  {
   "cell_type": "code",
   "execution_count": null,
   "metadata": {},
   "outputs": [
    {
     "name": "stdout",
     "output_type": "stream",
     "text": [
      "Playing\n"
     ]
    }
   ],
   "source": [
    "#DRAWING FUNC\n",
    "def pack_util(p) : \n",
    "    return p.pack()\n",
    "\n",
    "#TODO set Apple \n",
    "class Apple :\n",
    "    def __init__(self, tinker):\n",
    "        pass\n",
    "    \n",
    "class Snake (Snake_game) :\n",
    "    def __init__(self, tinker, game_size, play_btn):\n",
    "        super().__init__(tinker, game_size, False)\n",
    "        self.base_point = int(self.game_size / 5)\n",
    "        self.snake_positions = [\n",
    "            (self.base_point, self.base_point),\n",
    "            (self.base_point - self.pixel_size, self.base_point),\n",
    "            (self.base_point - (self.pixel_size * 2), self.base_point)\n",
    "        ]\n",
    "        \n",
    "    def create_snake(self, canvas):\n",
    "        for x_position, y_position in self.snake_positions :\n",
    "            self.snake_part = canvas.create_rectangle(\n",
    "                x_position - self.pixel_size,\n",
    "                y_position + self.pixel_size/10,\n",
    "                x_position,\n",
    "                y_position - self.pixel_size,\n",
    "                outline=\"#000000\",\n",
    "                fill=\"#1EC81C\"\n",
    "            )\n",
    "        return canvas\n",
    "    \n",
    "class Snake_game :\n",
    "    def __init__(self, tinker, size = 500, play_btn = True):\n",
    "        #INIT\n",
    "        self.game_size = size\n",
    "        self.pixel_size = 20\n",
    "        self.tinker = tinker\n",
    "        self.tinker.title(\"Snake\")\n",
    "        self.tinker.resizable(False, False)\n",
    "        self.tinker.tk.call(\"tk\", \"scaling\", 4.0)\n",
    "        if play_btn : \n",
    "            #PLAY BUTTON\n",
    "            self.play_button = tk.Button(self.tinker, text = \"PLAY\", command = self.play, width = 8, height = 2 )\n",
    "            pack_util(self.play_button)\n",
    "        #INIT CANVAS\n",
    "        self.canvas = Canvas(self.tinker, width = self.game_size, height = self.game_size, background = \"black\", highlightthickness = 0)\n",
    "        \n",
    "    def play(self):\n",
    "        print(\"Playing\")\n",
    "        #REMOVE PLAY BUTTON\n",
    "        self.play_button.destroy()\n",
    "        if len(self.tinker.winfo_children()) == 1 :\n",
    "            self.snake = Snake(self.tinker, self.game_size, False).create_snake(self.canvas)\n",
    "            pack_util(self.canvas)\n",
    "        return True\n",
    "\n",
    "root = tk.Tk()\n",
    "snake_game = Snake_game(root)\n",
    "root.mainloop()\n"
   ]
  },
  {
   "cell_type": "markdown",
   "metadata": {},
   "source": [
    "<h2><b>IA</b></h2>"
   ]
  },
  {
   "cell_type": "code",
   "execution_count": 6,
   "metadata": {},
   "outputs": [],
   "source": [
    "class Ia_dumb :\n",
    "    def __init__(self):\n",
    "        pass\n",
    "\n",
    "class Ia_smart :\n",
    "    def __init__(self):\n",
    "        pass\n",
    "    \n",
    "class Ia_q :\n",
    "    def __init__(self):\n",
    "        pass\n",
    "    \n",
    "class Snake_game :\n",
    "    def __init__(self):\n",
    "        pass\n",
    "    def play(self):\n",
    "        print(\"Playing\")\n",
    "        return True\n",
    "\n",
    "snake_game = Snake_game()\n",
    "snake_game.play()"
   ]
  },
  {
   "cell_type": "code",
   "execution_count": null,
   "metadata": {},
   "outputs": [],
   "source": []
  }
 ],
 "metadata": {
  "kernelspec": {
   "display_name": "Python 3",
   "language": "python",
   "name": "python3"
  },
  "language_info": {
   "codemirror_mode": {
    "name": "ipython",
    "version": 3
   },
   "file_extension": ".py",
   "mimetype": "text/x-python",
   "name": "python",
   "nbconvert_exporter": "python",
   "pygments_lexer": "ipython3",
   "version": "3.7.8"
  }
 },
 "nbformat": 4,
 "nbformat_minor": 4
}
